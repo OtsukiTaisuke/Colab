{
  "nbformat": 4,
  "nbformat_minor": 0,
  "metadata": {
    "colab": {
      "name": "NA2_CNN_mnist.ipynb",
      "provenance": [],
      "include_colab_link": true
    },
    "kernelspec": {
      "name": "python3",
      "display_name": "Python 3"
    }
  },
  "cells": [
    {
      "cell_type": "markdown",
      "metadata": {
        "id": "view-in-github",
        "colab_type": "text"
      },
      "source": [
        "<a href=\"https://colab.research.google.com/github/OtsukiTaisuke/Colab/blob/master/NA2_CNN_mnist.ipynb\" target=\"_parent\"><img src=\"https://colab.research.google.com/assets/colab-badge.svg\" alt=\"Open In Colab\"/></a>"
      ]
    },
    {
      "cell_type": "markdown",
      "metadata": {
        "id": "KoIJxEGHsv9b",
        "colab_type": "text"
      },
      "source": [
        "# 概要"
      ]
    },
    {
      "cell_type": "markdown",
      "metadata": {
        "id": "u_8YcIykBGqj",
        "colab_type": "text"
      },
      "source": [
        "## NNを使ったmnistデータ識別\n",
        "\n",
        "1. データの収集・整理：mnistデータセット\n",
        "1. 前処理　　　　　　：最大値の調整\n",
        "1. 評価法の設定　　　：分割法（訓練用とテスト用）\n",
        "1. 学習　　　　　　　：DNN\n",
        "1. 結果の可視化　　　：正答率（accuracy）"
      ]
    },
    {
      "cell_type": "markdown",
      "metadata": {
        "id": "1mEgGkdls6El",
        "colab_type": "text"
      },
      "source": [
        "# 前準備\n"
      ]
    },
    {
      "cell_type": "markdown",
      "metadata": {
        "id": "9tU8Qob03HYx",
        "colab_type": "text"
      },
      "source": [
        "## 各パッケージのインポート\n",
        "1. numpy: 行列計算用\n",
        "1. TensorFlowなどの機械学習ライブラリを楽に扱うライブラリ"
      ]
    },
    {
      "cell_type": "code",
      "metadata": {
        "id": "V6LvlbXg3Gw0",
        "colab_type": "code",
        "colab": {}
      },
      "source": [
        "import numpy as np\n",
        "import keras"
      ],
      "execution_count": 0,
      "outputs": []
    },
    {
      "cell_type": "markdown",
      "metadata": {
        "id": "mewYloAUtQkq",
        "colab_type": "text"
      },
      "source": [
        "# データセットの読み込み"
      ]
    },
    {
      "cell_type": "markdown",
      "metadata": {
        "id": "Mcn36HdM4KwA",
        "colab_type": "text"
      },
      "source": [
        "## mnistデータセットの読み込み\n",
        "\n",
        "+ 読み込んだデータセットをそれぞれ  \n",
        "訓練に用いるデータ(X_train)＆正解ラベル(y_train)  \n",
        "テストに用いるデータ(X_test)＆正解ラベル(y_test)  \n",
        "に代入\n",
        "+ 学習用データが60000枚，評価用が10000枚ある"
      ]
    },
    {
      "cell_type": "code",
      "metadata": {
        "id": "qBWLXl1y4XJ4",
        "colab_type": "code",
        "colab": {}
      },
      "source": [
        "from keras.datasets import mnist\n",
        "(X_train, y_train), (X_test, y_test) = mnist.load_data()"
      ],
      "execution_count": 0,
      "outputs": []
    },
    {
      "cell_type": "markdown",
      "metadata": {
        "id": "pAUZsYKhtc3a",
        "colab_type": "text"
      },
      "source": [
        "# データの整理，前処理"
      ]
    },
    {
      "cell_type": "markdown",
      "metadata": {
        "id": "acjbnfeXH7sO",
        "colab_type": "text"
      },
      "source": [
        "## 入力データ（X_train, X_test）の処理\n",
        "\n",
        "+ 使うデータ数を制限（訓練に10000枚，テストに1000枚）\n",
        "+ 画素ごとのデータの値が0～255→0～1に変換"
      ]
    },
    {
      "cell_type": "code",
      "metadata": {
        "id": "x45bisJJAPsK",
        "colab_type": "code",
        "colab": {}
      },
      "source": [
        "img_rows, img_cols = 28, 28\n",
        "\n",
        "X_train = X_train.reshape(X_train.shape[0], img_rows,  img_cols, 1)[0:10000]\n",
        "X_test = X_test.reshape(X_test.shape[0], img_rows, img_cols, 1)[0:1000]\n",
        "\n",
        "X_train = X_train.astype('float32')\n",
        "X_test = X_test.astype('float32')\n",
        "X_train /= 255\n",
        "X_test /= 255"
      ],
      "execution_count": 0,
      "outputs": []
    },
    {
      "cell_type": "markdown",
      "metadata": {
        "id": "EhWUwsRgIwou",
        "colab_type": "text"
      },
      "source": [
        "## ラベルデータ（y_train, y_test）の処理\n",
        "\n",
        "+ 正解ラベル（y_train, y_test）をone-hotベクトル表現"
      ]
    },
    {
      "cell_type": "code",
      "metadata": {
        "id": "js31JpQIJEHd",
        "colab_type": "code",
        "colab": {}
      },
      "source": [
        "from keras.utils import np_utils\n",
        "Y_train = np_utils.to_categorical(y_train)[0:10000]\n",
        "Y_test = np_utils.to_categorical(y_test)[0:1000]"
      ],
      "execution_count": 0,
      "outputs": []
    },
    {
      "cell_type": "markdown",
      "metadata": {
        "id": "GdiEGaAZtlos",
        "colab_type": "text"
      },
      "source": [
        "# 多階層ニューラルネットワークの構成"
      ]
    },
    {
      "cell_type": "markdown",
      "metadata": {
        "id": "CV84RpewUD16",
        "colab_type": "text"
      },
      "source": [
        "## パッケージ読み込み\n",
        "\n",
        "+ Sequential：階層状のネットワークの構成\n",
        "+ Dense：ネットワークレイヤー\n",
        "+ Activation：活性化関数の設定\n",
        "+ SGD：確率的最急勾配法"
      ]
    },
    {
      "cell_type": "code",
      "metadata": {
        "id": "AbJNpPgNJZVu",
        "colab_type": "code",
        "colab": {}
      },
      "source": [
        "from keras.models import Sequential\n",
        "from keras.layers import Dense, Activation, Conv2D, MaxPooling2D, Flatten\n",
        "from keras.optimizers import SGD"
      ],
      "execution_count": 0,
      "outputs": []
    },
    {
      "cell_type": "markdown",
      "metadata": {
        "id": "DCOLBhJgm39n",
        "colab_type": "text"
      },
      "source": [
        "## 学習モデルの構築\n",
        "### 構築するモデルのサイズの設定\n",
        "\n",
        "+ 入力のサイズを訓練データから取得\n",
        "+ 隠れ層のノード数を200に設定\n",
        "+ 出力のサイズをラベルデータから取得"
      ]
    },
    {
      "cell_type": "code",
      "metadata": {
        "id": "APVcLPCKV-FK",
        "colab_type": "code",
        "colab": {}
      },
      "source": [
        "input_shape = X_train[0].shape\n",
        "n_hidden = 200\n",
        "n_out = len(Y_train[0])"
      ],
      "execution_count": 0,
      "outputs": []
    },
    {
      "cell_type": "markdown",
      "metadata": {
        "id": "gaVLiRK4FWC-",
        "colab_type": "text"
      },
      "source": [
        "### CNN\n",
        "- 畳み込み\n",
        "- プーリング\n",
        "- 畳み込み\n",
        "- プーリング\n",
        "- 全結合層"
      ]
    },
    {
      "cell_type": "code",
      "metadata": {
        "id": "gHHoN2ynFbEw",
        "colab_type": "code",
        "outputId": "fe9844bf-39ca-4d70-b2a6-b707b4adbd27",
        "colab": {
          "base_uri": "https://localhost:8080/",
          "height": 374
        }
      },
      "source": [
        "model = Sequential()\n",
        "model.add(Conv2D(16, kernel_size=(3, 3), activation='relu',\n",
        "                input_shape=(28, 28, 1)))\n",
        "model.add(MaxPooling2D(pool_size=(2, 2)))\n",
        "model.add(Conv2D(32, kernel_size=(3, 3), activation='relu',\n",
        "                input_shape=(28, 28, 1)))\n",
        "model.add(MaxPooling2D(pool_size=(2, 2)))\n",
        "model.add(Flatten())\n",
        "model.add(Dense(128, activation='relu'))\n",
        "model.add(Dense(n_out, activation='softmax'))\n",
        "model.summary()"
      ],
      "execution_count": 0,
      "outputs": [
        {
          "output_type": "stream",
          "text": [
            "_________________________________________________________________\n",
            "Layer (type)                 Output Shape              Param #   \n",
            "=================================================================\n",
            "conv2d_11 (Conv2D)           (None, 26, 26, 16)        160       \n",
            "_________________________________________________________________\n",
            "max_pooling2d_9 (MaxPooling2 (None, 13, 13, 16)        0         \n",
            "_________________________________________________________________\n",
            "conv2d_12 (Conv2D)           (None, 11, 11, 32)        4640      \n",
            "_________________________________________________________________\n",
            "max_pooling2d_10 (MaxPooling (None, 5, 5, 32)          0         \n",
            "_________________________________________________________________\n",
            "flatten_4 (Flatten)          (None, 800)               0         \n",
            "_________________________________________________________________\n",
            "dense_9 (Dense)              (None, 128)               102528    \n",
            "_________________________________________________________________\n",
            "dense_10 (Dense)             (None, 10)                1290      \n",
            "=================================================================\n",
            "Total params: 108,618\n",
            "Trainable params: 108,618\n",
            "Non-trainable params: 0\n",
            "_________________________________________________________________\n"
          ],
          "name": "stdout"
        }
      ]
    },
    {
      "cell_type": "markdown",
      "metadata": {
        "id": "e_oc_9Hpp6xR",
        "colab_type": "text"
      },
      "source": [
        "### モデルのコンパイル\n",
        "\n",
        "+ 損失関数：クロスエントロピー\n",
        "+ 最適化アルゴリズム：SGD\n",
        "+ 評価基準：正答率（accuracy）"
      ]
    },
    {
      "cell_type": "code",
      "metadata": {
        "id": "cMN2ZKShqM0w",
        "colab_type": "code",
        "colab": {}
      },
      "source": [
        "model.compile(loss='categorical_crossentropy', optimizer=SGD(lr=0.1),\n",
        "             metrics = ['accuracy'])"
      ],
      "execution_count": 0,
      "outputs": []
    },
    {
      "cell_type": "markdown",
      "metadata": {
        "id": "LlKc9bkvtu4T",
        "colab_type": "text"
      },
      "source": [
        "# 学習"
      ]
    },
    {
      "cell_type": "markdown",
      "metadata": {
        "id": "GLaZNF2duILT",
        "colab_type": "text"
      },
      "source": [
        "## fitメソッドによる学習\n",
        "\n",
        "+ epochs：繰り返し回数\n",
        "+ batch_size：バッチサイズ"
      ]
    },
    {
      "cell_type": "code",
      "metadata": {
        "id": "DT61YK7-tx4L",
        "colab_type": "code",
        "outputId": "d0e01322-57cc-4c61-9d73-e52442e73dbb",
        "colab": {
          "base_uri": "https://localhost:8080/",
          "height": 204
        }
      },
      "source": [
        "model.fit(X_train, Y_train, epochs=5, batch_size=200)"
      ],
      "execution_count": 0,
      "outputs": [
        {
          "output_type": "stream",
          "text": [
            "Epoch 1/5\n",
            "10000/10000 [==============================] - 5s 532us/step - loss: 1.5397 - acc: 0.5309\n",
            "Epoch 2/5\n",
            "10000/10000 [==============================] - 5s 500us/step - loss: 0.4692 - acc: 0.8548\n",
            "Epoch 3/5\n",
            "10000/10000 [==============================] - 5s 496us/step - loss: 0.2569 - acc: 0.9272\n",
            "Epoch 4/5\n",
            "10000/10000 [==============================] - 5s 497us/step - loss: 0.2059 - acc: 0.9389\n",
            "Epoch 5/5\n",
            "10000/10000 [==============================] - 5s 504us/step - loss: 0.1743 - acc: 0.9481\n"
          ],
          "name": "stdout"
        },
        {
          "output_type": "execute_result",
          "data": {
            "text/plain": [
              "<keras.callbacks.History at 0x7f29337760f0>"
            ]
          },
          "metadata": {
            "tags": []
          },
          "execution_count": 48
        }
      ]
    },
    {
      "cell_type": "markdown",
      "metadata": {
        "id": "MtHdkTvkucyy",
        "colab_type": "text"
      },
      "source": [
        "# 結果の可視化"
      ]
    },
    {
      "cell_type": "markdown",
      "metadata": {
        "id": "oUq0OuOUuhHb",
        "colab_type": "text"
      },
      "source": [
        "## evaluateメソッドによる評価\n",
        "\n",
        "+ 損失値（Loss）と正答率（accuracy）を表示"
      ]
    },
    {
      "cell_type": "code",
      "metadata": {
        "id": "Jbzd0XVLugey",
        "colab_type": "code",
        "outputId": "eed21048-da24-4df3-f84c-18e8df7cd8dc",
        "colab": {
          "base_uri": "https://localhost:8080/",
          "height": 51
        }
      },
      "source": [
        "score = model.evaluate(X_test, Y_test, verbose=0)\n",
        "print('Test loss:', score[0])\n",
        "print('Test accuracy:', score[1])"
      ],
      "execution_count": 0,
      "outputs": [
        {
          "output_type": "stream",
          "text": [
            "Test loss: 0.15894902217388154\n",
            "Test accuracy: 0.949\n"
          ],
          "name": "stdout"
        }
      ]
    },
    {
      "cell_type": "code",
      "metadata": {
        "id": "K4pELqXk3IMT",
        "colab_type": "code",
        "colab": {}
      },
      "source": [
        ""
      ],
      "execution_count": 0,
      "outputs": []
    }
  ]
}