{
  "nbformat": 4,
  "nbformat_minor": 0,
  "metadata": {
    "colab": {
      "name": "NA2_RNN_sin.ipynb",
      "provenance": [],
      "include_colab_link": true
    },
    "kernelspec": {
      "name": "python3",
      "display_name": "Python 3"
    }
  },
  "cells": [
    {
      "cell_type": "markdown",
      "metadata": {
        "id": "view-in-github",
        "colab_type": "text"
      },
      "source": [
        "<a href=\"https://colab.research.google.com/github/OtsukiTaisuke/Colab/blob/master/NA2_RNN_sin.ipynb\" target=\"_parent\"><img src=\"https://colab.research.google.com/assets/colab-badge.svg\" alt=\"Open In Colab\"/></a>"
      ]
    },
    {
      "cell_type": "code",
      "metadata": {
        "id": "SCwBdbZHJjGY",
        "colab_type": "code",
        "outputId": "f58d2435-c322-483e-d8c8-db6d83ea6e89",
        "colab": {
          "base_uri": "https://localhost:8080/",
          "height": 34
        }
      },
      "source": [
        "import numpy as np\n",
        "import matplotlib.pyplot as plt\n",
        "from keras.models import Sequential\n",
        "from keras.layers.core import Dense, Activation\n",
        "from keras.layers.recurrent import SimpleRNN\n",
        "from keras.optimizers import Adam\n",
        "from keras.callbacks import EarlyStopping\n",
        "from sklearn.model_selection import train_test_split\n",
        "from sklearn.utils import shuffle"
      ],
      "execution_count": 0,
      "outputs": [
        {
          "output_type": "stream",
          "text": [
            "Using TensorFlow backend.\n"
          ],
          "name": "stderr"
        }
      ]
    },
    {
      "cell_type": "code",
      "metadata": {
        "id": "I8VOxwHdNh2L",
        "colab_type": "code",
        "colab": {}
      },
      "source": [
        "np.random.seed(0)"
      ],
      "execution_count": 0,
      "outputs": []
    },
    {
      "cell_type": "code",
      "metadata": {
        "id": "t8Hq5B8EIes2",
        "colab_type": "code",
        "colab": {}
      },
      "source": [
        "def sin(x, T=100):\n",
        "    return np.sin(2.0*np.pi*x / T)\n",
        "\n",
        "def problem(T=100, noise_amp = 0.05):\n",
        "    x = np.arange(0, 2*T + 1)\n",
        "    noise = noise_amp*np.random.uniform(low=-1.0, high=1.0, size=len(x))\n",
        "    return sin(x) + noise"
      ],
      "execution_count": 0,
      "outputs": []
    },
    {
      "cell_type": "code",
      "metadata": {
        "id": "mBYQ6QqK0N5x",
        "colab_type": "code",
        "colab": {}
      },
      "source": [
        "T = 100\n",
        "f = problem(T)\n",
        "\n",
        "data_length = 2*T\n",
        "maxlen = 25\n",
        "\n",
        "data=[]\n",
        "target=[]\n",
        "\n",
        "for i in range(0, data_length - maxlen + 1):\n",
        "    data.append(f[i: i + maxlen])\n",
        "    target.append(f[i + maxlen])\n",
        "    \n",
        "X = np.array(data).reshape(len(data), maxlen, 1)\n",
        "y = np.array(target).reshape(len(data), 1)"
      ],
      "execution_count": 0,
      "outputs": []
    },
    {
      "cell_type": "code",
      "metadata": {
        "id": "-SN6jSleLKpX",
        "colab_type": "code",
        "colab": {}
      },
      "source": [
        "N_train = int(len(data) * 0.9)\n",
        "N_test = len(data) - N_train\n",
        "\n",
        "X_train, X_test, y_train, y_test = train_test_split(X, y, test_size=N_test)"
      ],
      "execution_count": 0,
      "outputs": []
    },
    {
      "cell_type": "code",
      "metadata": {
        "id": "F_TMFapWMl4D",
        "colab_type": "code",
        "colab": {}
      },
      "source": [
        "n_in = len(X[0][0])\n",
        "n_hidden = 20\n",
        "n_out = len(y[0])"
      ],
      "execution_count": 0,
      "outputs": []
    },
    {
      "cell_type": "code",
      "metadata": {
        "id": "8Vvvv8U7Ntl5",
        "colab_type": "code",
        "outputId": "fe4a3ebd-b3ee-427c-a681-1dcbd4652150",
        "colab": {
          "base_uri": "https://localhost:8080/",
          "height": 88
        }
      },
      "source": [
        "def weight_variable(shape, name=None):\n",
        "    return np.random.normal(scale=.01, size=shape)\n",
        "\n",
        "\n",
        "early_stopping = EarlyStopping(monitor='val_loss', patience=10, verbose=1)\n",
        "\n",
        "model = Sequential()\n",
        "model.add(SimpleRNN(n_hidden,\n",
        "                    kernel_initializer=weight_variable,\n",
        "                    input_shape=(maxlen, n_in)))\n",
        "model.add(Dense(n_out, kernel_initializer=weight_variable))\n",
        "model.add(Activation('linear'))\n",
        "\n",
        "optimizer = Adam(lr=0.001, beta_1=0.9, beta_2=0.999)\n",
        "model.compile(loss='mean_squared_error',\n",
        "              optimizer=optimizer)"
      ],
      "execution_count": 0,
      "outputs": [
        {
          "output_type": "stream",
          "text": [
            "WARNING:tensorflow:From /usr/local/lib/python3.6/dist-packages/tensorflow/python/framework/op_def_library.py:263: colocate_with (from tensorflow.python.framework.ops) is deprecated and will be removed in a future version.\n",
            "Instructions for updating:\n",
            "Colocations handled automatically by placer.\n"
          ],
          "name": "stdout"
        }
      ]
    },
    {
      "cell_type": "code",
      "metadata": {
        "id": "9YXzgzqLNz1O",
        "colab_type": "code",
        "outputId": "7b472ec5-7b99-4780-e063-4f35e902ffcd",
        "colab": {
          "base_uri": "https://localhost:8080/",
          "height": 2077
        }
      },
      "source": [
        "epochs = 500\n",
        "batch_size = 10\n",
        "\n",
        "model.fit(X_train, y_train,\n",
        "          batch_size=batch_size,\n",
        "          epochs=epochs,\n",
        "          validation_data=(X_test, y_test),\n",
        "          callbacks=[early_stopping])"
      ],
      "execution_count": 0,
      "outputs": [
        {
          "output_type": "stream",
          "text": [
            "WARNING:tensorflow:From /usr/local/lib/python3.6/dist-packages/tensorflow/python/ops/math_ops.py:3066: to_int32 (from tensorflow.python.ops.math_ops) is deprecated and will be removed in a future version.\n",
            "Instructions for updating:\n",
            "Use tf.cast instead.\n",
            "Train on 158 samples, validate on 18 samples\n",
            "Epoch 1/500\n",
            "158/158 [==============================] - 0s 2ms/step - loss: 0.5060 - val_loss: 0.3868\n",
            "Epoch 2/500\n",
            "158/158 [==============================] - 0s 322us/step - loss: 0.4011 - val_loss: 0.2583\n",
            "Epoch 3/500\n",
            "158/158 [==============================] - 0s 318us/step - loss: 0.2185 - val_loss: 0.0949\n",
            "Epoch 4/500\n",
            "158/158 [==============================] - 0s 336us/step - loss: 0.0850 - val_loss: 0.0611\n",
            "Epoch 5/500\n",
            "158/158 [==============================] - 0s 323us/step - loss: 0.0673 - val_loss: 0.0650\n",
            "Epoch 6/500\n",
            "158/158 [==============================] - 0s 313us/step - loss: 0.0462 - val_loss: 0.0477\n",
            "Epoch 7/500\n",
            "158/158 [==============================] - 0s 318us/step - loss: 0.0346 - val_loss: 0.0303\n",
            "Epoch 8/500\n",
            "158/158 [==============================] - 0s 330us/step - loss: 0.0361 - val_loss: 0.0283\n",
            "Epoch 9/500\n",
            "158/158 [==============================] - 0s 378us/step - loss: 0.0266 - val_loss: 0.0268\n",
            "Epoch 10/500\n",
            "158/158 [==============================] - 0s 381us/step - loss: 0.0197 - val_loss: 0.0287\n",
            "Epoch 11/500\n",
            "158/158 [==============================] - 0s 353us/step - loss: 0.0162 - val_loss: 0.0199\n",
            "Epoch 12/500\n",
            "158/158 [==============================] - 0s 319us/step - loss: 0.0135 - val_loss: 0.0110\n",
            "Epoch 13/500\n",
            "158/158 [==============================] - 0s 307us/step - loss: 0.0114 - val_loss: 0.0092\n",
            "Epoch 14/500\n",
            "158/158 [==============================] - 0s 306us/step - loss: 0.0093 - val_loss: 0.0096\n",
            "Epoch 15/500\n",
            "158/158 [==============================] - 0s 327us/step - loss: 0.0067 - val_loss: 0.0103\n",
            "Epoch 16/500\n",
            "158/158 [==============================] - 0s 350us/step - loss: 0.0058 - val_loss: 0.0067\n",
            "Epoch 17/500\n",
            "158/158 [==============================] - 0s 304us/step - loss: 0.0056 - val_loss: 0.0070\n",
            "Epoch 18/500\n",
            "158/158 [==============================] - 0s 309us/step - loss: 0.0057 - val_loss: 0.0077\n",
            "Epoch 19/500\n",
            "158/158 [==============================] - 0s 307us/step - loss: 0.0051 - val_loss: 0.0053\n",
            "Epoch 20/500\n",
            "158/158 [==============================] - 0s 327us/step - loss: 0.0045 - val_loss: 0.0044\n",
            "Epoch 21/500\n",
            "158/158 [==============================] - 0s 308us/step - loss: 0.0045 - val_loss: 0.0040\n",
            "Epoch 22/500\n",
            "158/158 [==============================] - 0s 320us/step - loss: 0.0041 - val_loss: 0.0040\n",
            "Epoch 23/500\n",
            "158/158 [==============================] - 0s 314us/step - loss: 0.0037 - val_loss: 0.0053\n",
            "Epoch 24/500\n",
            "158/158 [==============================] - 0s 335us/step - loss: 0.0052 - val_loss: 0.0045\n",
            "Epoch 25/500\n",
            "158/158 [==============================] - 0s 311us/step - loss: 0.0040 - val_loss: 0.0032\n",
            "Epoch 26/500\n",
            "158/158 [==============================] - 0s 315us/step - loss: 0.0035 - val_loss: 0.0038\n",
            "Epoch 27/500\n",
            "158/158 [==============================] - 0s 308us/step - loss: 0.0030 - val_loss: 0.0036\n",
            "Epoch 28/500\n",
            "158/158 [==============================] - 0s 334us/step - loss: 0.0029 - val_loss: 0.0029\n",
            "Epoch 29/500\n",
            "158/158 [==============================] - 0s 309us/step - loss: 0.0025 - val_loss: 0.0030\n",
            "Epoch 30/500\n",
            "158/158 [==============================] - 0s 312us/step - loss: 0.0025 - val_loss: 0.0029\n",
            "Epoch 31/500\n",
            "158/158 [==============================] - 0s 308us/step - loss: 0.0022 - val_loss: 0.0027\n",
            "Epoch 32/500\n",
            "158/158 [==============================] - 0s 327us/step - loss: 0.0020 - val_loss: 0.0020\n",
            "Epoch 33/500\n",
            "158/158 [==============================] - 0s 302us/step - loss: 0.0019 - val_loss: 0.0021\n",
            "Epoch 34/500\n",
            "158/158 [==============================] - 0s 310us/step - loss: 0.0017 - val_loss: 0.0018\n",
            "Epoch 35/500\n",
            "158/158 [==============================] - 0s 300us/step - loss: 0.0016 - val_loss: 0.0022\n",
            "Epoch 36/500\n",
            "158/158 [==============================] - 0s 336us/step - loss: 0.0015 - val_loss: 0.0017\n",
            "Epoch 37/500\n",
            "158/158 [==============================] - 0s 303us/step - loss: 0.0015 - val_loss: 0.0018\n",
            "Epoch 38/500\n",
            "158/158 [==============================] - 0s 312us/step - loss: 0.0014 - val_loss: 0.0015\n",
            "Epoch 39/500\n",
            "158/158 [==============================] - 0s 319us/step - loss: 0.0017 - val_loss: 0.0017\n",
            "Epoch 40/500\n",
            "158/158 [==============================] - 0s 331us/step - loss: 0.0013 - val_loss: 0.0015\n",
            "Epoch 41/500\n",
            "158/158 [==============================] - 0s 313us/step - loss: 0.0014 - val_loss: 0.0017\n",
            "Epoch 42/500\n",
            "158/158 [==============================] - 0s 329us/step - loss: 0.0012 - val_loss: 0.0013\n",
            "Epoch 43/500\n",
            "158/158 [==============================] - 0s 306us/step - loss: 0.0014 - val_loss: 0.0030\n",
            "Epoch 44/500\n",
            "158/158 [==============================] - 0s 307us/step - loss: 0.0014 - val_loss: 0.0014\n",
            "Epoch 45/500\n",
            "158/158 [==============================] - 0s 340us/step - loss: 0.0012 - val_loss: 0.0014\n",
            "Epoch 46/500\n",
            "158/158 [==============================] - 0s 300us/step - loss: 0.0013 - val_loss: 0.0027\n",
            "Epoch 47/500\n",
            "158/158 [==============================] - 0s 294us/step - loss: 0.0015 - val_loss: 0.0011\n",
            "Epoch 48/500\n",
            "158/158 [==============================] - 0s 299us/step - loss: 0.0011 - val_loss: 0.0015\n",
            "Epoch 49/500\n",
            "158/158 [==============================] - 0s 345us/step - loss: 0.0011 - val_loss: 0.0015\n",
            "Epoch 50/500\n",
            "158/158 [==============================] - 0s 300us/step - loss: 0.0011 - val_loss: 0.0014\n",
            "Epoch 51/500\n",
            "158/158 [==============================] - 0s 301us/step - loss: 0.0012 - val_loss: 0.0038\n",
            "Epoch 52/500\n",
            "158/158 [==============================] - 0s 317us/step - loss: 0.0014 - val_loss: 0.0018\n",
            "Epoch 53/500\n",
            "158/158 [==============================] - 0s 355us/step - loss: 0.0011 - val_loss: 0.0017\n",
            "Epoch 54/500\n",
            "158/158 [==============================] - 0s 315us/step - loss: 0.0011 - val_loss: 0.0017\n",
            "Epoch 55/500\n",
            "158/158 [==============================] - 0s 312us/step - loss: 0.0011 - val_loss: 0.0014\n",
            "Epoch 56/500\n",
            "158/158 [==============================] - 0s 311us/step - loss: 0.0012 - val_loss: 0.0023\n",
            "Epoch 57/500\n",
            "158/158 [==============================] - 0s 339us/step - loss: 0.0011 - val_loss: 0.0019\n",
            "Epoch 00057: early stopping\n"
          ],
          "name": "stdout"
        },
        {
          "output_type": "execute_result",
          "data": {
            "text/plain": [
              "<keras.callbacks.History at 0x7fbf3d800d30>"
            ]
          },
          "metadata": {
            "tags": []
          },
          "execution_count": 8
        }
      ]
    },
    {
      "cell_type": "code",
      "metadata": {
        "id": "xk-QJp8SN8fZ",
        "colab_type": "code",
        "colab": {}
      },
      "source": [
        "truncate = maxlen\n",
        "Z = X[:1]  # 元データの最初の一部だけ切り出し\n",
        "\n",
        "original = [f[i] for i in range(maxlen)]\n",
        "predicted = [None for i in range(maxlen)]\n",
        "\n",
        "for i in range(data_length - maxlen + 1):\n",
        "    z_ = Z[-1:]\n",
        "    y_ = model.predict(z_)\n",
        "    sequence_ = np.concatenate(\n",
        "        (z_.reshape(maxlen, n_in)[1:], y_),\n",
        "        axis=0).reshape(1, maxlen, n_in)\n",
        "    Z = np.append(Z, sequence_, axis=0)\n",
        "    predicted.append(y_.reshape(-1))"
      ],
      "execution_count": 0,
      "outputs": []
    },
    {
      "cell_type": "code",
      "metadata": {
        "id": "30i5vko4OCai",
        "colab_type": "code",
        "outputId": "5169b6ae-e41c-4726-9ab0-3829300683e7",
        "colab": {
          "base_uri": "https://localhost:8080/",
          "height": 269
        }
      },
      "source": [
        "plt.ylim([-1.5, 1.5])\n",
        "plt.plot(problem(T, noise_amp=0), linestyle='dotted', color='#aaaaaa')\n",
        "plt.plot(original, linestyle='dashed', color='black')\n",
        "plt.plot(predicted, color='black')\n",
        "plt.show()"
      ],
      "execution_count": 0,
      "outputs": [
        {
          "output_type": "display_data",
          "data": {
            "image/png": "[encoded data removed]",
            "text/plain": [
              "<Figure size 432x288 with 1 Axes>"
            ]
          },
          "metadata": {
            "tags": []
          }
        }
      ]
    },
    {
      "cell_type": "code",
      "metadata": {
        "id": "9lVC4nOURgaR",
        "colab_type": "code",
        "colab": {}
      },
      "source": [
        ""
      ],
      "execution_count": 0,
      "outputs": []
    }
  ]
}