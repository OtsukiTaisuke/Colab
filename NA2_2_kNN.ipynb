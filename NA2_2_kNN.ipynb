{
  "nbformat": 4,
  "nbformat_minor": 0,
  "metadata": {
    "colab": {
      "name": "NA2_2_kNN.ipynb",
      "provenance": [],
      "toc_visible": true,
      "include_colab_link": true
    },
    "kernelspec": {
      "name": "python3",
      "display_name": "Python 3"
    }
  },
  "cells": [
    {
      "cell_type": "markdown",
      "metadata": {
        "id": "view-in-github",
        "colab_type": "text"
      },
      "source": [
        "<a href=\"https://colab.research.google.com/github/OtsukiTaisuke/Colab/blob/master/NA2_2_kNN.ipynb\" target=\"_parent\"><img src=\"https://colab.research.google.com/assets/colab-badge.svg\" alt=\"Open In Colab\"/></a>"
      ]
    },
    {
      "cell_type": "markdown",
      "metadata": {
        "id": "aa4Bb2uesRZK",
        "colab_type": "text"
      },
      "source": [
        "# 機械学習の流れ（k-NNによる識別）"
      ]
    },
    {
      "cell_type": "markdown",
      "metadata": {
        "id": "9H_qgBZ4zeIr",
        "colab_type": "text"
      },
      "source": [
        "## モジュールのインポート"
      ]
    },
    {
      "cell_type": "code",
      "metadata": {
        "id": "fxvA2nffpeZF",
        "colab_type": "code",
        "colab": {}
      },
      "source": [
        "import numpy as np\n",
        "import matplotlib.pyplot as plt\n",
        "from sklearn.datasets import load_iris\n",
        "from sklearn.decomposition import PCA\n",
        "from sklearn.preprocessing import StandardScaler\n",
        "from sklearn.neighbors import KNeighborsClassifier\n",
        "from sklearn.model_selection import cross_val_score\n",
        "from sklearn.model_selection import cross_val_predict\n",
        "from sklearn.metrics import (confusion_matrix, precision_score,\n",
        "                             recall_score, f1_score)"
      ],
      "execution_count": 0,
      "outputs": []
    },
    {
      "cell_type": "markdown",
      "metadata": {
        "id": "5iOFCPSdy1qB",
        "colab_type": "text"
      },
      "source": [
        "## 1. データ収集・整理\n",
        "パッケージ内にある既存のデータセットを利用"
      ]
    },
    {
      "cell_type": "code",
      "metadata": {
        "id": "ppQb6ACKsOjz",
        "colab_type": "code",
        "colab": {}
      },
      "source": [
        "iris = load_iris()\n",
        "X = iris.data\n",
        "y = iris.target"
      ],
      "execution_count": 0,
      "outputs": []
    },
    {
      "cell_type": "markdown",
      "metadata": {
        "id": "n3IMxrXO9W_D",
        "colab_type": "text"
      },
      "source": [
        "### 読み込んだデータの情報*\n",
        "\n",
        "\n"
      ]
    },
    {
      "cell_type": "markdown",
      "metadata": {
        "id": "fF2iWZkQE7yj",
        "colab_type": "text"
      },
      "source": [
        "#### type()で型を取得"
      ]
    },
    {
      "cell_type": "code",
      "metadata": {
        "id": "gd5U8MK8zXFT",
        "colab_type": "code",
        "outputId": "9f4db973-9b58-4545-b937-b77ba9801eea",
        "colab": {
          "base_uri": "https://localhost:8080/",
          "height": 35
        }
      },
      "source": [
        "print(type(iris))"
      ],
      "execution_count": 0,
      "outputs": [
        {
          "output_type": "stream",
          "text": [
            "<class 'sklearn.utils.Bunch'>\n"
          ],
          "name": "stdout"
        }
      ]
    },
    {
      "cell_type": "markdown",
      "metadata": {
        "id": "WbeBxAY_EcW8",
        "colab_type": "text"
      },
      "source": [
        "#### オブジェクト内の属性のリスト"
      ]
    },
    {
      "cell_type": "code",
      "metadata": {
        "id": "jIbUZNbQ1Dji",
        "colab_type": "code",
        "outputId": "d4750a7f-8693-4c42-fa2d-eb88d1d9bf70",
        "colab": {
          "base_uri": "https://localhost:8080/",
          "height": 35
        }
      },
      "source": [
        "dir(iris)"
      ],
      "execution_count": 0,
      "outputs": [
        {
          "output_type": "execute_result",
          "data": {
            "text/plain": [
              "['DESCR', 'data', 'feature_names', 'filename', 'target', 'target_names']"
            ]
          },
          "metadata": {
            "tags": []
          },
          "execution_count": 5
        }
      ]
    },
    {
      "cell_type": "code",
      "metadata": {
        "id": "R-fwwWYWQ_l-",
        "colab_type": "code",
        "colab": {}
      },
      "source": [
        "print(iris.DESCR)"
      ],
      "execution_count": 0,
      "outputs": []
    },
    {
      "cell_type": "markdown",
      "metadata": {
        "id": "ZrD3AkT3FAwL",
        "colab_type": "text"
      },
      "source": [
        "## 2. 前処理\n",
        "1. 次元削減  \n",
        "主成分分析を用いる\n",
        "1. 正規化  \n",
        "データの平均を0に，分散を1にする\n",
        "\n",
        "を元データに対しておこなう"
      ]
    },
    {
      "cell_type": "markdown",
      "metadata": {
        "id": "HfxuBqL-C2D4",
        "colab_type": "text"
      },
      "source": [
        "### 2-1 PCA"
      ]
    },
    {
      "cell_type": "code",
      "metadata": {
        "id": "A79WHt8JCfhn",
        "colab_type": "code",
        "colab": {}
      },
      "source": [
        "pca = PCA(n_components=2)\n",
        "X_pca = pca.fit_transform(X)"
      ],
      "execution_count": 0,
      "outputs": []
    },
    {
      "cell_type": "code",
      "metadata": {
        "id": "YlEO_dyrOKV8",
        "colab_type": "code",
        "outputId": "ea1f227a-52dc-4d32-e0d3-0c2dfff396ac",
        "colab": {
          "base_uri": "https://localhost:8080/",
          "height": 286
        }
      },
      "source": [
        "plt.plot(X_pca[y==0,0], X_pca[y==0,1],\"ro\")\n",
        "plt.plot(X_pca[y==1,0], X_pca[y==1,1],\"g.\")\n",
        "plt.plot(X_pca[y==2,0], X_pca[y==2,1],\"bx\")"
      ],
      "execution_count": 0,
      "outputs": [
        {
          "output_type": "execute_result",
          "data": {
            "text/plain": [
              "[<matplotlib.lines.Line2D at 0x7fa2f87c9208>]"
            ]
          },
          "metadata": {
            "tags": []
          },
          "execution_count": 10
        },
        {
          "output_type": "display_data",
          "data": {
            "image/png": "[encoded data removed]",
            "text/plain": [
              "<Figure size 432x288 with 1 Axes>"
            ]
          },
          "metadata": {
            "tags": []
          }
        }
      ]
    },
    {
      "cell_type": "markdown",
      "metadata": {
        "id": "uYN_mw8gC9SA",
        "colab_type": "text"
      },
      "source": [
        "### 2-2 正規化"
      ]
    },
    {
      "cell_type": "code",
      "metadata": {
        "id": "RubG0Mhl9FGL",
        "colab_type": "code",
        "colab": {}
      },
      "source": [
        "ss = StandardScaler()\n",
        "X_pca_ss = ss.fit_transform(X_pca)"
      ],
      "execution_count": 0,
      "outputs": []
    },
    {
      "cell_type": "code",
      "metadata": {
        "id": "gT38ftogNysU",
        "colab_type": "code",
        "outputId": "cabf3fa3-c313-4367-ad25-1d09bef52627",
        "colab": {
          "base_uri": "https://localhost:8080/",
          "height": 286
        }
      },
      "source": [
        "plt.plot(X_pca_ss[y==0,0], X_pca_ss[y==0,1],\"ro\")\n",
        "plt.plot(X_pca_ss[y==1,0], X_pca_ss[y==1,1],\"g.\")\n",
        "plt.plot(X_pca_ss[y==2,0], X_pca_ss[y==2,1],\"bx\")"
      ],
      "execution_count": 0,
      "outputs": [
        {
          "output_type": "execute_result",
          "data": {
            "text/plain": [
              "[<matplotlib.lines.Line2D at 0x7fa2f87a7e10>]"
            ]
          },
          "metadata": {
            "tags": []
          },
          "execution_count": 12
        },
        {
          "output_type": "display_data",
          "data": {
            "image/png": "[encoded data removed]",
            "text/plain": [
              "<Figure size 432x288 with 1 Axes>"
            ]
          },
          "metadata": {
            "tags": []
          }
        }
      ]
    },
    {
      "cell_type": "markdown",
      "metadata": {
        "id": "XY6k6ialDws4",
        "colab_type": "text"
      },
      "source": [
        "## 3. 評価基準の設定\n",
        "交差確認法(Cross Validation method)を用いる  \n",
        "今回は10-fold CV"
      ]
    },
    {
      "cell_type": "markdown",
      "metadata": {
        "id": "xOxwQ1WjEY5o",
        "colab_type": "text"
      },
      "source": [
        "## 4. 学習\n",
        "k-NN法  \n",
        "探索する近傍データ数: 1"
      ]
    },
    {
      "cell_type": "code",
      "metadata": {
        "id": "oYFaMfVlDYeg",
        "colab_type": "code",
        "colab": {}
      },
      "source": [
        "clf = KNeighborsClassifier(n_neighbors=1)"
      ],
      "execution_count": 0,
      "outputs": []
    },
    {
      "cell_type": "code",
      "metadata": {
        "id": "JVDFGXsPE4aZ",
        "colab_type": "code",
        "colab": {}
      },
      "source": [
        "scores = cross_val_score(clf, X_pca_ss, y, cv=10)"
      ],
      "execution_count": 0,
      "outputs": []
    },
    {
      "cell_type": "markdown",
      "metadata": {
        "id": "azO4v_ajFq1o",
        "colab_type": "text"
      },
      "source": [
        "## 5. 結果の表示"
      ]
    },
    {
      "cell_type": "code",
      "metadata": {
        "id": "SQ6WwVC9E-xY",
        "colab_type": "code",
        "outputId": "8b20f31e-d462-4d6d-9967-1d80607aa5a8",
        "colab": {
          "base_uri": "https://localhost:8080/",
          "height": 34
        }
      },
      "source": [
        "print(\"Accuracy: %0.2f\" % (scores.mean()))"
      ],
      "execution_count": 0,
      "outputs": [
        {
          "output_type": "stream",
          "text": [
            "Accuracy: 0.94\n"
          ],
          "name": "stdout"
        }
      ]
    },
    {
      "cell_type": "code",
      "metadata": {
        "id": "Dymkr6z7FIuY",
        "colab_type": "code",
        "outputId": "79d1d4a4-70d9-435d-a589-367ba1c640c7",
        "colab": {
          "base_uri": "https://localhost:8080/",
          "height": 68
        }
      },
      "source": [
        "y_pred = cross_val_predict(clf, X_pca_ss, y, cv=10)\n",
        "confusion_matrix(y, y_pred)"
      ],
      "execution_count": 0,
      "outputs": [
        {
          "output_type": "execute_result",
          "data": {
            "text/plain": [
              "array([[50,  0,  0],\n",
              "       [ 0, 45,  5],\n",
              "       [ 0,  4, 46]])"
            ]
          },
          "metadata": {
            "tags": []
          },
          "execution_count": 16
        }
      ]
    },
    {
      "cell_type": "code",
      "metadata": {
        "id": "dvextB1BFg9g",
        "colab_type": "code",
        "outputId": "1d08de21-52a7-420b-a193-81a7f9885fb2",
        "colab": {
          "base_uri": "https://localhost:8080/",
          "height": 34
        }
      },
      "source": [
        "recall_score(y, y_pred, average='micro')"
      ],
      "execution_count": 0,
      "outputs": [
        {
          "output_type": "execute_result",
          "data": {
            "text/plain": [
              "0.94"
            ]
          },
          "metadata": {
            "tags": []
          },
          "execution_count": 20
        }
      ]
    },
    {
      "cell_type": "code",
      "metadata": {
        "id": "m5GZoJnm16s4",
        "colab_type": "code",
        "outputId": "27d043ab-b012-4fc7-a8ae-11b3fcab2726",
        "colab": {
          "base_uri": "https://localhost:8080/",
          "height": 34
        }
      },
      "source": [
        "precision_score(y, y_pred, average='micro')"
      ],
      "execution_count": 0,
      "outputs": [
        {
          "output_type": "execute_result",
          "data": {
            "text/plain": [
              "0.94"
            ]
          },
          "metadata": {
            "tags": []
          },
          "execution_count": 19
        }
      ]
    },
    {
      "cell_type": "code",
      "metadata": {
        "id": "tZUxXbzc2YaE",
        "colab_type": "code",
        "outputId": "c8079b66-0593-41d2-b12a-4ef5475b894a",
        "colab": {
          "base_uri": "https://localhost:8080/",
          "height": 34
        }
      },
      "source": [
        "f1_score(y, y_pred, average='micro')"
      ],
      "execution_count": 0,
      "outputs": [
        {
          "output_type": "execute_result",
          "data": {
            "text/plain": [
              "0.94"
            ]
          },
          "metadata": {
            "tags": []
          },
          "execution_count": 22
        }
      ]
    },
    {
      "cell_type": "code",
      "metadata": {
        "id": "YDVO1Iaf2o7c",
        "colab_type": "code",
        "colab": {}
      },
      "source": [
        ""
      ],
      "execution_count": 0,
      "outputs": []
    }
  ]
}