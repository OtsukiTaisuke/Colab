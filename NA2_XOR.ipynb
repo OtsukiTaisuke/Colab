{
  "nbformat": 4,
  "nbformat_minor": 0,
  "metadata": {
    "colab": {
      "name": "NA2_XOR.ipynb",
      "provenance": [],
      "include_colab_link": true
    },
    "kernelspec": {
      "name": "python3",
      "display_name": "Python 3"
    }
  },
  "cells": [
    {
      "cell_type": "markdown",
      "metadata": {
        "id": "view-in-github",
        "colab_type": "text"
      },
      "source": [
        "<a href=\"https://colab.research.google.com/github/OtsukiTaisuke/Colab/blob/master/NA2_XOR.ipynb\" target=\"_parent\"><img src=\"https://colab.research.google.com/assets/colab-badge.svg\" alt=\"Open In Colab\"/></a>"
      ]
    },
    {
      "cell_type": "markdown",
      "metadata": {
        "id": "uXW89CbrUCvE",
        "colab_type": "text"
      },
      "source": [
        "# XORを例としたNNの学習過程"
      ]
    },
    {
      "cell_type": "markdown",
      "metadata": {
        "id": "eSuJHu9oUPbT",
        "colab_type": "text"
      },
      "source": [
        "## パッケージ等のインポート"
      ]
    },
    {
      "cell_type": "code",
      "metadata": {
        "id": "0vFKcJYg_52q",
        "colab_type": "code",
        "colab": {}
      },
      "source": [
        "import numpy as np\n",
        "import scipy.special"
      ],
      "execution_count": 0,
      "outputs": []
    },
    {
      "cell_type": "markdown",
      "metadata": {
        "id": "pu1sZDdcUbnW",
        "colab_type": "text"
      },
      "source": [
        "## 初期設定\n",
        "入力層(input_node): 2  \n",
        "中間層(hidden_node): 2  \n",
        "出力層(output_node): 1  \n",
        "\n",
        "学習率(learning_rate): 0.1  \n",
        "活性化関数(activate_func): sigmoid"
      ]
    },
    {
      "cell_type": "code",
      "metadata": {
        "id": "qwGs3Wk59alg",
        "colab_type": "code",
        "colab": {}
      },
      "source": [
        "input_node = 2\n",
        "hidden_node = 2\n",
        "output_node = 1\n",
        "\n",
        "learning_rate = 0.1\n",
        "activation_func = lambda x: scipy.special.expit(x)"
      ],
      "execution_count": 0,
      "outputs": []
    },
    {
      "cell_type": "markdown",
      "metadata": {
        "id": "5X1XAy4UVeRE",
        "colab_type": "text"
      },
      "source": [
        "## データ\n",
        "XOR  \n",
        "\n",
        "|input|output|  \n",
        "|----|:----:|\n",
        "|0, 0|0|\n",
        "|0, 1|1|\n",
        "|1, 0|1|\n",
        "|1, 1|0|\n"
      ]
    },
    {
      "cell_type": "code",
      "metadata": {
        "id": "koUjAdqhA-ob",
        "colab_type": "code",
        "colab": {}
      },
      "source": [
        "X = [[0,0],[0,1],[1,0],[1,1]]\n",
        "y = [0,1,1,0]"
      ],
      "execution_count": 0,
      "outputs": []
    },
    {
      "cell_type": "markdown",
      "metadata": {
        "id": "mSjIYkZJVRZL",
        "colab_type": "text"
      },
      "source": [
        "## 重み行列の初期化\n",
        "wih: 入力層→中間層の重み  \n",
        "who: 中間層→出力層の重み  \n",
        "\n",
        "np.random.normal(平均, 標準偏差, サイズ)  \n",
        ": 正規分布に従う乱数生成  \n"
      ]
    },
    {
      "cell_type": "code",
      "metadata": {
        "id": "Wnu-p6AKVW9p",
        "colab_type": "code",
        "colab": {}
      },
      "source": [
        "wih = np.random.normal(0.0, 0.5, (hidden_node, input_node))\n",
        "who = np.random.normal(0.0, 0.5, (output_node, hidden_node))"
      ],
      "execution_count": 0,
      "outputs": []
    },
    {
      "cell_type": "markdown",
      "metadata": {
        "id": "2YSHCb5lOrLJ",
        "colab_type": "text"
      },
      "source": [
        "## 順伝搬\n",
        "入力  \n",
        "↓重み行列  \n",
        "中間層  \n",
        "↓活性化関数  \n",
        "↓重み行列  \n",
        "出力層  \n",
        "↓活性化関数  \n",
        "出力"
      ]
    },
    {
      "cell_type": "code",
      "metadata": {
        "id": "opSod0w6CEfy",
        "colab_type": "code",
        "outputId": "7b0add56-921b-43ea-cab0-ef162c16dd2b",
        "colab": {
          "base_uri": "https://localhost:8080/",
          "height": 34
        }
      },
      "source": [
        "i = 1\n",
        "x = np.array(X[i], ndmin=2).T\n",
        "hi = np.dot(wih, x)\n",
        "ho = activation_func(hi)\n",
        "fi = np.dot(who, ho)\n",
        "fo = activation_func(fi)\n",
        "print(fo)"
      ],
      "execution_count": 0,
      "outputs": [
        {
          "output_type": "stream",
          "text": [
            "[[0.29240575]]\n"
          ],
          "name": "stdout"
        }
      ]
    },
    {
      "cell_type": "markdown",
      "metadata": {
        "id": "JsWbx_J1X-DS",
        "colab_type": "text"
      },
      "source": [
        "## 誤差\n",
        "出力層の誤差(＝目標 - 結果)  \n",
        "↓重み行列の転置  \n",
        "中間層の誤差"
      ]
    },
    {
      "cell_type": "code",
      "metadata": {
        "id": "x6ZLvk3_DpDH",
        "colab_type": "code",
        "colab": {}
      },
      "source": [
        "oe = y[i] - fo\n",
        "he = np.dot(who.T, oe)"
      ],
      "execution_count": 0,
      "outputs": []
    },
    {
      "cell_type": "markdown",
      "metadata": {
        "id": "eegfQ6AAYdhw",
        "colab_type": "text"
      },
      "source": [
        "## 学習\n",
        "勾配降下法"
      ]
    },
    {
      "cell_type": "code",
      "metadata": {
        "id": "lj0l98GbE8KQ",
        "colab_type": "code",
        "colab": {}
      },
      "source": [
        "who += learning_rate*np.dot((oe*fo*(1.0-fo)),np.transpose(ho))\n",
        "wih += learning_rate*np.dot((he*ho*(1.0-ho)),np.transpose(x))"
      ],
      "execution_count": 0,
      "outputs": []
    },
    {
      "cell_type": "code",
      "metadata": {
        "id": "vdNil8zTfYqj",
        "colab_type": "code",
        "colab": {}
      },
      "source": [
        ""
      ],
      "execution_count": 0,
      "outputs": []
    }
  ]
}