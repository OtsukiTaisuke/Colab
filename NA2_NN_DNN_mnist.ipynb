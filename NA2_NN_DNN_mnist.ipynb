{
  "nbformat": 4,
  "nbformat_minor": 0,
  "metadata": {
    "colab": {
      "name": "NA2_NN_DNN_mnist.ipynb",
      "provenance": [],
      "include_colab_link": true
    },
    "kernelspec": {
      "name": "python3",
      "display_name": "Python 3"
    }
  },
  "cells": [
    {
      "cell_type": "markdown",
      "metadata": {
        "id": "view-in-github",
        "colab_type": "text"
      },
      "source": [
        "<a href=\"https://colab.research.google.com/github/OtsukiTaisuke/Colab/blob/master/NA2_NN_DNN_mnist.ipynb\" target=\"_parent\"><img src=\"https://colab.research.google.com/assets/colab-badge.svg\" alt=\"Open In Colab\"/></a>"
      ]
    },
    {
      "cell_type": "markdown",
      "metadata": {
        "id": "KoIJxEGHsv9b",
        "colab_type": "text"
      },
      "source": [
        "# 概要"
      ]
    },
    {
      "cell_type": "markdown",
      "metadata": {
        "id": "u_8YcIykBGqj",
        "colab_type": "text"
      },
      "source": [
        "## NNを使ったmnistデータ識別\n",
        "\n",
        "1. データの収集・整理：mnistデータセット\n",
        "1. 前処理　　　　　　：最大値の調整\n",
        "1. 評価法の設定　　　：分割法（訓練用とテスト用）\n",
        "1. 学習　　　　　　　：DNN\n",
        "1. 結果の可視化　　　：正答率（accuracy）"
      ]
    },
    {
      "cell_type": "markdown",
      "metadata": {
        "id": "1mEgGkdls6El",
        "colab_type": "text"
      },
      "source": [
        "# 前準備\n"
      ]
    },
    {
      "cell_type": "markdown",
      "metadata": {
        "id": "9tU8Qob03HYx",
        "colab_type": "text"
      },
      "source": [
        "## 各パッケージのインポート\n",
        "1. numpy: 行列計算用\n",
        "1. TensorFlowなどの機械学習ライブラリを楽に扱うライブラリ"
      ]
    },
    {
      "cell_type": "code",
      "metadata": {
        "id": "V6LvlbXg3Gw0",
        "colab_type": "code",
        "outputId": "3b409aed-3a6c-405c-e61f-261c3fc2cbf7",
        "colab": {
          "base_uri": "https://localhost:8080/",
          "height": 34
        }
      },
      "source": [
        "import numpy as np\n",
        "import keras"
      ],
      "execution_count": 0,
      "outputs": [
        {
          "output_type": "stream",
          "text": [
            "Using TensorFlow backend.\n"
          ],
          "name": "stderr"
        }
      ]
    },
    {
      "cell_type": "markdown",
      "metadata": {
        "id": "mewYloAUtQkq",
        "colab_type": "text"
      },
      "source": [
        "# データセットの読み込み"
      ]
    },
    {
      "cell_type": "markdown",
      "metadata": {
        "id": "Mcn36HdM4KwA",
        "colab_type": "text"
      },
      "source": [
        "## mnistデータセットの読み込み\n",
        "\n",
        "+ 読み込んだデータセットをそれぞれ  \n",
        "訓練に用いるデータ(X_train)＆正解ラベル(y_train)  \n",
        "テストに用いるデータ(X_test)＆正解ラベル(y_test)  \n",
        "に代入\n",
        "+ 学習用データが60000枚，評価用が10000枚ある"
      ]
    },
    {
      "cell_type": "code",
      "metadata": {
        "id": "qBWLXl1y4XJ4",
        "colab_type": "code",
        "outputId": "f82e5e0d-f4a9-4427-89d8-df5e42b46ce1",
        "colab": {
          "base_uri": "https://localhost:8080/",
          "height": 51
        }
      },
      "source": [
        "from keras.datasets import mnist\n",
        "(X_train, y_train), (X_test, y_test) = mnist.load_data()"
      ],
      "execution_count": 0,
      "outputs": [
        {
          "output_type": "stream",
          "text": [
            "Downloading data from https://s3.amazonaws.com/img-datasets/mnist.npz\n",
            "11493376/11490434 [==============================] - 1s 0us/step\n"
          ],
          "name": "stdout"
        }
      ]
    },
    {
      "cell_type": "markdown",
      "metadata": {
        "id": "pAUZsYKhtc3a",
        "colab_type": "text"
      },
      "source": [
        "# データの整理，前処理"
      ]
    },
    {
      "cell_type": "markdown",
      "metadata": {
        "id": "acjbnfeXH7sO",
        "colab_type": "text"
      },
      "source": [
        "## 入力データ（X_train, X_test）の処理\n",
        "\n",
        "+ 使うデータ数を制限（訓練に10000枚，テストに1000枚）\n",
        "+ 画素ごとのデータの値が0～255→0～1に変換"
      ]
    },
    {
      "cell_type": "code",
      "metadata": {
        "id": "x45bisJJAPsK",
        "colab_type": "code",
        "colab": {}
      },
      "source": [
        "img_rows, img_cols = 28, 28\n",
        "\n",
        "X_train = X_train.reshape(X_train.shape[0], img_rows * img_cols)[0:10000]\n",
        "X_test = X_test.reshape(X_test.shape[0], img_rows * img_cols)[0:1000]\n",
        "\n",
        "X_train = X_train.astype('float32')\n",
        "X_test = X_test.astype('float32')\n",
        "X_train /= 255\n",
        "X_test /= 255"
      ],
      "execution_count": 0,
      "outputs": []
    },
    {
      "cell_type": "markdown",
      "metadata": {
        "id": "EhWUwsRgIwou",
        "colab_type": "text"
      },
      "source": [
        "## ラベルデータ（y_train, y_test）の処理\n",
        "\n",
        "+ 正解ラベル（y_train, y_test）をone-hotベクトル表現"
      ]
    },
    {
      "cell_type": "code",
      "metadata": {
        "id": "js31JpQIJEHd",
        "colab_type": "code",
        "colab": {}
      },
      "source": [
        "from keras.utils import np_utils\n",
        "Y_train = np_utils.to_categorical(y_train)[0:10000]\n",
        "Y_test = np_utils.to_categorical(y_test)[0:1000]"
      ],
      "execution_count": 0,
      "outputs": []
    },
    {
      "cell_type": "markdown",
      "metadata": {
        "id": "GdiEGaAZtlos",
        "colab_type": "text"
      },
      "source": [
        "# 多階層ニューラルネットワークの構成"
      ]
    },
    {
      "cell_type": "markdown",
      "metadata": {
        "id": "CV84RpewUD16",
        "colab_type": "text"
      },
      "source": [
        "## パッケージ読み込み\n",
        "\n",
        "+ Sequential：階層状のネットワークの構成\n",
        "+ Dense：ネットワークレイヤー\n",
        "+ Activation：活性化関数の設定\n",
        "+ SGD：確率的最急勾配法"
      ]
    },
    {
      "cell_type": "code",
      "metadata": {
        "id": "AbJNpPgNJZVu",
        "colab_type": "code",
        "colab": {}
      },
      "source": [
        "from keras.models import Sequential\n",
        "from keras.layers import Dense, Activation\n",
        "from keras.optimizers import SGD"
      ],
      "execution_count": 0,
      "outputs": []
    },
    {
      "cell_type": "markdown",
      "metadata": {
        "id": "DCOLBhJgm39n",
        "colab_type": "text"
      },
      "source": [
        "## 中間層が1層のモデル\n",
        "### 構築するモデルのサイズの設定\n",
        "\n",
        "+ 入力のサイズを訓練データから取得\n",
        "+ 隠れ層のノード数を200に設定\n",
        "+ 出力のサイズをラベルデータから取得"
      ]
    },
    {
      "cell_type": "code",
      "metadata": {
        "id": "APVcLPCKV-FK",
        "colab_type": "code",
        "colab": {}
      },
      "source": [
        "input_shape = X_train[0].shape\n",
        "n_hidden = 200\n",
        "n_out = len(Y_train[0])"
      ],
      "execution_count": 0,
      "outputs": []
    },
    {
      "cell_type": "markdown",
      "metadata": {
        "id": "xOzwklSUmHoI",
        "colab_type": "text"
      },
      "source": [
        "### モデルの構築\n",
        "\n",
        "+ 中間層での活性化関数：sigmoid\n",
        "+ 出力層での活性化関数：softmax"
      ]
    },
    {
      "cell_type": "code",
      "metadata": {
        "id": "j0qCC0Fgnb3Y",
        "colab_type": "code",
        "outputId": "353720cb-eee7-4e4f-fd86-3f2c490d32dc",
        "colab": {
          "base_uri": "https://localhost:8080/",
          "height": 275
        }
      },
      "source": [
        "model = Sequential()\n",
        "model.add(Dense(n_hidden, input_shape=input_shape, activation='sigmoid'))\n",
        "model.add(Dense(n_out, activation='sigmoid'))\n",
        "model.summary()"
      ],
      "execution_count": 0,
      "outputs": [
        {
          "output_type": "stream",
          "text": [
            "WARNING:tensorflow:From /usr/local/lib/python3.6/dist-packages/tensorflow/python/framework/op_def_library.py:263: colocate_with (from tensorflow.python.framework.ops) is deprecated and will be removed in a future version.\n",
            "Instructions for updating:\n",
            "Colocations handled automatically by placer.\n",
            "_________________________________________________________________\n",
            "Layer (type)                 Output Shape              Param #   \n",
            "=================================================================\n",
            "dense_1 (Dense)              (None, 200)               157000    \n",
            "_________________________________________________________________\n",
            "dense_2 (Dense)              (None, 10)                2010      \n",
            "=================================================================\n",
            "Total params: 159,010\n",
            "Trainable params: 159,010\n",
            "Non-trainable params: 0\n",
            "_________________________________________________________________\n"
          ],
          "name": "stdout"
        }
      ]
    },
    {
      "cell_type": "markdown",
      "metadata": {
        "id": "gaVLiRK4FWC-",
        "colab_type": "text"
      },
      "source": [
        "## 中間層を増やしてみたモデル"
      ]
    },
    {
      "cell_type": "code",
      "metadata": {
        "id": "gHHoN2ynFbEw",
        "colab_type": "code",
        "outputId": "dff3a4f2-8306-403d-a0fc-8cd386f4fc23",
        "colab": {
          "base_uri": "https://localhost:8080/",
          "height": 306
        }
      },
      "source": [
        "model = Sequential()\n",
        "model.add(Dense(n_hidden, input_shape=input_shape, activation='sigmoid'))\n",
        "model.add(Dense(n_hidden, input_shape=input_shape, activation='sigmoid'))\n",
        "model.add(Dense(n_hidden, input_shape=input_shape, activation='sigmoid'))\n",
        "model.add(Dense(n_hidden, input_shape=input_shape, activation='sigmoid'))\n",
        "model.add(Dense(n_out, activation='sigmoid'))\n",
        "model.summary()"
      ],
      "execution_count": 0,
      "outputs": [
        {
          "output_type": "stream",
          "text": [
            "_________________________________________________________________\n",
            "Layer (type)                 Output Shape              Param #   \n",
            "=================================================================\n",
            "dense_13 (Dense)             (None, 200)               157000    \n",
            "_________________________________________________________________\n",
            "dense_14 (Dense)             (None, 200)               40200     \n",
            "_________________________________________________________________\n",
            "dense_15 (Dense)             (None, 200)               40200     \n",
            "_________________________________________________________________\n",
            "dense_16 (Dense)             (None, 200)               40200     \n",
            "_________________________________________________________________\n",
            "dense_17 (Dense)             (None, 10)                2010      \n",
            "=================================================================\n",
            "Total params: 279,610\n",
            "Trainable params: 279,610\n",
            "Non-trainable params: 0\n",
            "_________________________________________________________________\n"
          ],
          "name": "stdout"
        }
      ]
    },
    {
      "cell_type": "markdown",
      "metadata": {
        "id": "e_oc_9Hpp6xR",
        "colab_type": "text"
      },
      "source": [
        "### モデルのコンパイル\n",
        "\n",
        "+ 損失関数：クロスエントロピー\n",
        "+ 最適化アルゴリズム：SGD\n",
        "+ 評価基準：正答率（accuracy）"
      ]
    },
    {
      "cell_type": "code",
      "metadata": {
        "id": "cMN2ZKShqM0w",
        "colab_type": "code",
        "colab": {}
      },
      "source": [
        "model.compile(loss='mean_squared_error', optimizer=SGD(lr=0.1),\n",
        "             metrics = ['accuracy'])"
      ],
      "execution_count": 0,
      "outputs": []
    },
    {
      "cell_type": "markdown",
      "metadata": {
        "id": "LlKc9bkvtu4T",
        "colab_type": "text"
      },
      "source": [
        "# 学習"
      ]
    },
    {
      "cell_type": "markdown",
      "metadata": {
        "id": "GLaZNF2duILT",
        "colab_type": "text"
      },
      "source": [
        "## fitメソッドによる学習\n",
        "\n",
        "+ epochs：繰り返し回数\n",
        "+ batch_size：バッチサイズ"
      ]
    },
    {
      "cell_type": "code",
      "metadata": {
        "id": "DT61YK7-tx4L",
        "colab_type": "code",
        "outputId": "67713f26-94e6-45bb-c666-4aa185f5c8d1",
        "colab": {
          "base_uri": "https://localhost:8080/",
          "height": 374
        }
      },
      "source": [
        "model.fit(X_train, Y_train, epochs=10, batch_size=128)"
      ],
      "execution_count": 0,
      "outputs": [
        {
          "output_type": "stream",
          "text": [
            "Epoch 1/10\n",
            "10000/10000 [==============================] - 1s 92us/step - loss: 0.1165 - acc: 0.1059\n",
            "Epoch 2/10\n",
            "10000/10000 [==============================] - 1s 66us/step - loss: 0.0904 - acc: 0.1127\n",
            "Epoch 3/10\n",
            "10000/10000 [==============================] - 1s 64us/step - loss: 0.0900 - acc: 0.1127\n",
            "Epoch 4/10\n",
            "10000/10000 [==============================] - 1s 64us/step - loss: 0.0900 - acc: 0.1127\n",
            "Epoch 5/10\n",
            "10000/10000 [==============================] - 1s 65us/step - loss: 0.0900 - acc: 0.1127\n",
            "Epoch 6/10\n",
            "10000/10000 [==============================] - 1s 65us/step - loss: 0.0900 - acc: 0.1127\n",
            "Epoch 7/10\n",
            "10000/10000 [==============================] - 1s 63us/step - loss: 0.0900 - acc: 0.1127\n",
            "Epoch 8/10\n",
            "10000/10000 [==============================] - 1s 61us/step - loss: 0.0900 - acc: 0.1127\n",
            "Epoch 9/10\n",
            "10000/10000 [==============================] - 1s 61us/step - loss: 0.0900 - acc: 0.1127\n",
            "Epoch 10/10\n",
            "10000/10000 [==============================] - 1s 63us/step - loss: 0.0900 - acc: 0.1127\n"
          ],
          "name": "stdout"
        },
        {
          "output_type": "execute_result",
          "data": {
            "text/plain": [
              "<keras.callbacks.History at 0x7f4ef3fbd940>"
            ]
          },
          "metadata": {
            "tags": []
          },
          "execution_count": 21
        }
      ]
    },
    {
      "cell_type": "markdown",
      "metadata": {
        "id": "MtHdkTvkucyy",
        "colab_type": "text"
      },
      "source": [
        "# 結果の可視化"
      ]
    },
    {
      "cell_type": "markdown",
      "metadata": {
        "id": "oUq0OuOUuhHb",
        "colab_type": "text"
      },
      "source": [
        "## evaluateメソッドによる評価\n",
        "\n",
        "+ 損失値（Loss）と正答率（accuracy）を表示"
      ]
    },
    {
      "cell_type": "code",
      "metadata": {
        "id": "Jbzd0XVLugey",
        "colab_type": "code",
        "outputId": "23da5cfe-3cd6-4cf5-b101-ea800b36e159",
        "colab": {
          "base_uri": "https://localhost:8080/",
          "height": 51
        }
      },
      "source": [
        "score = model.evaluate(X_test, Y_test, verbose=0)\n",
        "print('Test loss:', score[0])\n",
        "print('Test accuracy:', score[1])"
      ],
      "execution_count": 0,
      "outputs": [
        {
          "output_type": "stream",
          "text": [
            "Test loss: 0.08994105863571167\n",
            "Test accuracy: 0.126\n"
          ],
          "name": "stdout"
        }
      ]
    },
    {
      "cell_type": "code",
      "metadata": {
        "id": "K4pELqXk3IMT",
        "colab_type": "code",
        "colab": {}
      },
      "source": [
        ""
      ],
      "execution_count": 0,
      "outputs": []
    }
  ]
}